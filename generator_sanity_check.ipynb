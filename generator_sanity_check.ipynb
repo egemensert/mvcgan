{
 "cells": [
  {
   "cell_type": "code",
   "execution_count": 1,
   "metadata": {},
   "outputs": [],
   "source": [
    "import torch\n",
    "from siren import SIREN\n",
    "from generator import Generator"
   ]
  },
  {
   "cell_type": "code",
   "execution_count": 3,
   "metadata": {},
   "outputs": [
    {
     "name": "stdout",
     "output_type": "stream",
     "text": [
      "Image: torch.Size([4, 3, 256, 256])\n",
      "Pitch Yaw: torch.Size([4, 2])\n",
      "Primary RGB Size: torch.Size([4, 3, 64, 64])\n",
      "Warp RGB Size: torch.Size([4, 3, 64, 64])\n"
     ]
    }
   ],
   "source": [
    "z_dim = 256\n",
    "batch_size = 4\n",
    "img_size = 64\n",
    "output_size = 256\n",
    "z = torch.ones(batch_size, z_dim)\n",
    "\n",
    "\n",
    "gen = Generator(SIREN, z_dim=z_dim)\n",
    "gen.set_device(torch.device('cpu'))\n",
    "with torch.no_grad():\n",
    "    # pitch_yaw, primary_rgb, warp_rgb = gen(z, img_size, output_size)\n",
    "    im, pitch_yaw, primary_rgb, warp_rgb = gen(z, img_size, output_size)\n",
    "# expect the output to have shape [batch_size, 3, img_size, img_size]\n",
    "# primary_rgb.size(), warp_rgb.size()\n",
    "print('Image:', im.size())\n",
    "print('Pitch Yaw:', pitch_yaw.size())\n",
    "print('Primary RGB Size:', primary_rgb.size())\n",
    "print('Warp RGB Size:', warp_rgb.size())"
   ]
  },
  {
   "cell_type": "code",
   "execution_count": null,
   "metadata": {},
   "outputs": [],
   "source": []
  }
 ],
 "metadata": {
  "kernelspec": {
   "display_name": "base",
   "language": "python",
   "name": "python3"
  },
  "language_info": {
   "codemirror_mode": {
    "name": "ipython",
    "version": 3
   },
   "file_extension": ".py",
   "mimetype": "text/x-python",
   "name": "python",
   "nbconvert_exporter": "python",
   "pygments_lexer": "ipython3",
   "version": "3.9.13"
  },
  "orig_nbformat": 4
 },
 "nbformat": 4,
 "nbformat_minor": 2
}
